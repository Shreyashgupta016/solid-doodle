{
    "cells": [
        {
            "cell_type": "markdown",
            "metadata": {},
            "source": "### Importing Libraries"
        },
        {
            "cell_type": "code",
            "execution_count": 66,
            "metadata": {},
            "outputs": [
                {
                    "name": "stdout",
                    "output_type": "stream",
                    "text": "Solving environment: done\n\n# All requested packages already installed.\n\n"
                }
            ],
            "source": "!conda install beautifulsoup4\n\nfrom bs4 import BeautifulSoup\nimport requests\nimport pandas as pd\nimport csv"
        },
        {
            "cell_type": "markdown",
            "metadata": {},
            "source": "### Setting maxcolwidth to 800"
        },
        {
            "cell_type": "code",
            "execution_count": 60,
            "metadata": {},
            "outputs": [],
            "source": "pd.set_option('max_colwidth', 800)"
        },
        {
            "cell_type": "markdown",
            "metadata": {},
            "source": "### Assigning the source web page to the variable and initializing Beautiful Soup to the soup variable "
        },
        {
            "cell_type": "code",
            "execution_count": 61,
            "metadata": {},
            "outputs": [],
            "source": "source = requests.get('https://en.wikipedia.org/wiki/List_of_postal_codes_of_Canada:_M').text \nsoup = BeautifulSoup(source, 'lxml')"
        },
        {
            "cell_type": "markdown",
            "metadata": {},
            "source": "### Initializing csv_writer object and writing the names of the columns in it as the first row"
        },
        {
            "cell_type": "code",
            "execution_count": 62,
            "metadata": {},
            "outputs": [
                {
                    "data": {
                        "text/plain": "32"
                    },
                    "execution_count": 62,
                    "metadata": {},
                    "output_type": "execute_result"
                }
            ],
            "source": "csv_file = open('toronto_details.csv', 'w')\ncsv_writer = csv.writer(csv_file)\ncsv_writer.writerow(['Postcode', 'Borough', 'Neighbourhood'])"
        },
        {
            "cell_type": "markdown",
            "metadata": {},
            "source": "### Scraping the web page and extracting the data table"
        },
        {
            "cell_type": "code",
            "execution_count": 63,
            "metadata": {},
            "outputs": [],
            "source": "table = soup.find('table', class_ = 'wikitable sortable')\nrows = table.find_all('tr')\n\npostcodes = []\nboroughs = []\nneighbourhoods = []\n\nfor row in rows:    \n    columns = row.find_all('td')\n    try :\n        if columns[1].text != 'Not assigned' :\n            \n            Postcode = columns[0].text\n            postcodes.append(Postcode)\n            \n            Borough = columns[1].text\n            boroughs.append(Borough)\n            \n            Neighbourhood = columns[2].text.split('\\n')[0]\n            \n            if Neighbourhood == 'Not assigned':\n                Neighbourhood = Borough            \n                \n            neighbourhoods.append(Neighbourhood)\n             \n    except Exception as e :\n        pass \n    \npostcode_explored = []\nfor index_i, postcode_i in enumerate(postcodes) :   \n    if postcode_i not in postcode_explored :\n        nbds = neighbourhoods[index_i]\n        for index_f, postcode_f in enumerate(postcodes) :\n            if postcode_i == postcode_f and index_i != index_f:\n                nbds = nbds + ', ' + neighbourhoods[index_f]\n        csv_writer.writerow([postcode_i, boroughs[index_i], nbds])\n        postcode_explored.append(postcode_i)\n     "
        },
        {
            "cell_type": "markdown",
            "metadata": {},
            "source": "### Closing the csv file"
        },
        {
            "cell_type": "code",
            "execution_count": 64,
            "metadata": {},
            "outputs": [],
            "source": "csv_file.close()"
        },
        {
            "cell_type": "markdown",
            "metadata": {},
            "source": "### Creating the pandas dataframe and displaying it"
        },
        {
            "cell_type": "code",
            "execution_count": 65,
            "metadata": {},
            "outputs": [
                {
                    "data": {
                        "text/html": "<div>\n<style scoped>\n    .dataframe tbody tr th:only-of-type {\n        vertical-align: middle;\n    }\n\n    .dataframe tbody tr th {\n        vertical-align: top;\n    }\n\n    .dataframe thead th {\n        text-align: right;\n    }\n</style>\n<table border=\"1\" class=\"dataframe\">\n  <thead>\n    <tr style=\"text-align: right;\">\n      <th></th>\n      <th>Postcode</th>\n      <th>Borough</th>\n      <th>Neighbourhood</th>\n    </tr>\n  </thead>\n  <tbody>\n    <tr>\n      <th>0</th>\n      <td>M3A\\n</td>\n      <td>North York\\n</td>\n      <td>Parkwoods\\n</td>\n    </tr>\n    <tr>\n      <th>1</th>\n      <td>M4A\\n</td>\n      <td>North York\\n</td>\n      <td>Victoria Village\\n</td>\n    </tr>\n    <tr>\n      <th>2</th>\n      <td>M5A\\n</td>\n      <td>Downtown Toronto\\n</td>\n      <td>Regent Park, Harbourfront\\n</td>\n    </tr>\n    <tr>\n      <th>3</th>\n      <td>M6A\\n</td>\n      <td>North York\\n</td>\n      <td>Lawrence Manor, Lawrence Heights\\n</td>\n    </tr>\n    <tr>\n      <th>4</th>\n      <td>M7A\\n</td>\n      <td>Downtown Toronto\\n</td>\n      <td>Queen's Park, Ontario Provincial Government\\n</td>\n    </tr>\n  </tbody>\n</table>\n</div>",
                        "text/plain": "  Postcode             Borough                                  Neighbourhood\n0    M3A\\n        North York\\n                                    Parkwoods\\n\n1    M4A\\n        North York\\n                             Victoria Village\\n\n2    M5A\\n  Downtown Toronto\\n                    Regent Park, Harbourfront\\n\n3    M6A\\n        North York\\n             Lawrence Manor, Lawrence Heights\\n\n4    M7A\\n  Downtown Toronto\\n  Queen's Park, Ontario Provincial Government\\n"
                    },
                    "execution_count": 65,
                    "metadata": {},
                    "output_type": "execute_result"
                }
            ],
            "source": "df = pd.read_csv('toronto_details.csv')\ndf1 = df[df.Borough != 'Not assigned\\n']\ndf1.set_index('Postcode', inplace = True)\ndf1.reset_index(inplace = True)\ndf1.head()"
        },
        {
            "cell_type": "markdown",
            "metadata": {},
            "source": "### Displaying the shape of the dataframe"
        },
        {
            "cell_type": "code",
            "execution_count": 68,
            "metadata": {},
            "outputs": [
                {
                    "data": {
                        "text/plain": "(103, 3)"
                    },
                    "execution_count": 68,
                    "metadata": {},
                    "output_type": "execute_result"
                }
            ],
            "source": "df1.shape"
        },
        {
            "cell_type": "code",
            "execution_count": null,
            "metadata": {},
            "outputs": [],
            "source": ""
        }
    ],
    "metadata": {
        "kernelspec": {
            "display_name": "Python 3.6",
            "language": "python",
            "name": "python3"
        },
        "language_info": {
            "codemirror_mode": {
                "name": "ipython",
                "version": 3
            },
            "file_extension": ".py",
            "mimetype": "text/x-python",
            "name": "python",
            "nbconvert_exporter": "python",
            "pygments_lexer": "ipython3",
            "version": "3.6.9"
        }
    },
    "nbformat": 4,
    "nbformat_minor": 1
}