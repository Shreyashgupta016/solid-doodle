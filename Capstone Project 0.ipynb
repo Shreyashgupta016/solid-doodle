{
    "cells": [
        {
            "metadata": {
                "collapsed": true
            },
            "cell_type": "markdown",
            "source": "### Importing Libraries"
        },
        {
            "metadata": {},
            "cell_type": "code",
            "source": "!conda install beautifulsoup4\n\nfrom bs4 import BeautifulSoup\nimport requests\nimport pandas as pd\nimport csv",
            "execution_count": 1,
            "outputs": [
                {
                    "output_type": "stream",
                    "text": "Solving environment: done\n\n# All requested packages already installed.\n\n",
                    "name": "stdout"
                }
            ]
        },
        {
            "metadata": {},
            "cell_type": "markdown",
            "source": "### Setting maxcolwidth to 800"
        },
        {
            "metadata": {},
            "cell_type": "code",
            "source": "pd.set_option('max_colwidth', 800)",
            "execution_count": 2,
            "outputs": []
        },
        {
            "metadata": {},
            "cell_type": "markdown",
            "source": "### Assigning the source web page to the variable and initializing Beautiful Soup to the soup variable "
        },
        {
            "metadata": {},
            "cell_type": "code",
            "source": "source = requests.get('https://en.wikipedia.org/wiki/List_of_postal_codes_of_Canada:_M').text \nsoup = BeautifulSoup(source, 'lxml')",
            "execution_count": 3,
            "outputs": []
        },
        {
            "metadata": {},
            "cell_type": "markdown",
            "source": "### Initializing csv_writer object and writing the names of the columns in it as the first row"
        },
        {
            "metadata": {},
            "cell_type": "code",
            "source": "csv_file = open('toronto_details.csv', 'w')\ncsv_writer = csv.writer(csv_file)\ncsv_writer.writerow(['Postcode', 'Borough', 'Neighbourhood'])",
            "execution_count": 4,
            "outputs": [
                {
                    "output_type": "execute_result",
                    "execution_count": 4,
                    "data": {
                        "text/plain": "32"
                    },
                    "metadata": {}
                }
            ]
        },
        {
            "metadata": {},
            "cell_type": "markdown",
            "source": "### Scraping the web page and extracting the data table"
        },
        {
            "metadata": {},
            "cell_type": "code",
            "source": "table = soup.find('table', class_ = 'wikitable sortable')\nrows = table.find_all('tr')\n\npostcodes = []\nboroughs = []\nneighbourhoods = []\n\nfor row in rows:    \n    columns = row.find_all('td')\n    try :\n        if columns[1].text != 'Not assigned' :\n            \n            Postcode = columns[0].text\n            postcodes.append(Postcode)\n            \n            Borough = columns[1].text\n            boroughs.append(Borough)\n            \n            Neighbourhood = columns[2].text.split('\\n')[0]\n            \n            if Neighbourhood == 'Not assigned':\n                Neighbourhood = Borough            \n                \n            neighbourhoods.append(Neighbourhood)\n             \n    except Exception as e :\n        pass \n    \npostcode_explored = []\nfor index_i, postcode_i in enumerate(postcodes) :   \n    if postcode_i not in postcode_explored :\n        nbds = neighbourhoods[index_i]\n        for index_f, postcode_f in enumerate(postcodes) :\n            if postcode_i == postcode_f and index_i != index_f:\n                nbds = nbds + ', ' + neighbourhoods[index_f]\n        csv_writer.writerow([postcode_i, boroughs[index_i], nbds])\n        postcode_explored.append(postcode_i)\n     ",
            "execution_count": 5,
            "outputs": []
        },
        {
            "metadata": {},
            "cell_type": "markdown",
            "source": "### Closing the csv file"
        },
        {
            "metadata": {},
            "cell_type": "code",
            "source": "csv_file.close()",
            "execution_count": 6,
            "outputs": []
        },
        {
            "metadata": {},
            "cell_type": "markdown",
            "source": "### Creating the pandas dataframe and displaying it"
        },
        {
            "metadata": {},
            "cell_type": "code",
            "source": "df = pd.read_csv('toronto_details.csv')\ndf1 = df[df.Borough != 'Not assigned\\n']\ndf1.set_index('Postcode', inplace = True)\ndf1.reset_index(inplace = True)\ndf1.head(12)",
            "execution_count": 9,
            "outputs": [
                {
                    "output_type": "execute_result",
                    "execution_count": 9,
                    "data": {
                        "text/plain": "   Postcode             Borough  \\\n0     M3A\\n        North York\\n   \n1     M4A\\n        North York\\n   \n2     M5A\\n  Downtown Toronto\\n   \n3     M6A\\n        North York\\n   \n4     M7A\\n  Downtown Toronto\\n   \n5     M9A\\n         Etobicoke\\n   \n6     M1B\\n       Scarborough\\n   \n7     M3B\\n        North York\\n   \n8     M4B\\n         East York\\n   \n9     M5B\\n  Downtown Toronto\\n   \n10    M6B\\n        North York\\n   \n11    M9B\\n         Etobicoke\\n   \n\n                                                             Neighbourhood  \n0                                                                Parkwoods  \n1                                                         Victoria Village  \n2                                                Regent Park, Harbourfront  \n3                                         Lawrence Manor, Lawrence Heights  \n4                              Queen's Park, Ontario Provincial Government  \n5                                  Islington Avenue, Humber Valley Village  \n6                                                           Malvern, Rouge  \n7                                                                Don Mills  \n8                                          Parkview Hill, Woodbine Gardens  \n9                                                 Garden District, Ryerson  \n10                                                               Glencairn  \n11  West Deane Park, Princess Gardens, Martin Grove, Islington, Cloverdale  ",
                        "text/html": "<div>\n<style scoped>\n    .dataframe tbody tr th:only-of-type {\n        vertical-align: middle;\n    }\n\n    .dataframe tbody tr th {\n        vertical-align: top;\n    }\n\n    .dataframe thead th {\n        text-align: right;\n    }\n</style>\n<table border=\"1\" class=\"dataframe\">\n  <thead>\n    <tr style=\"text-align: right;\">\n      <th></th>\n      <th>Postcode</th>\n      <th>Borough</th>\n      <th>Neighbourhood</th>\n    </tr>\n  </thead>\n  <tbody>\n    <tr>\n      <th>0</th>\n      <td>M3A\\n</td>\n      <td>North York\\n</td>\n      <td>Parkwoods</td>\n    </tr>\n    <tr>\n      <th>1</th>\n      <td>M4A\\n</td>\n      <td>North York\\n</td>\n      <td>Victoria Village</td>\n    </tr>\n    <tr>\n      <th>2</th>\n      <td>M5A\\n</td>\n      <td>Downtown Toronto\\n</td>\n      <td>Regent Park, Harbourfront</td>\n    </tr>\n    <tr>\n      <th>3</th>\n      <td>M6A\\n</td>\n      <td>North York\\n</td>\n      <td>Lawrence Manor, Lawrence Heights</td>\n    </tr>\n    <tr>\n      <th>4</th>\n      <td>M7A\\n</td>\n      <td>Downtown Toronto\\n</td>\n      <td>Queen's Park, Ontario Provincial Government</td>\n    </tr>\n    <tr>\n      <th>5</th>\n      <td>M9A\\n</td>\n      <td>Etobicoke\\n</td>\n      <td>Islington Avenue, Humber Valley Village</td>\n    </tr>\n    <tr>\n      <th>6</th>\n      <td>M1B\\n</td>\n      <td>Scarborough\\n</td>\n      <td>Malvern, Rouge</td>\n    </tr>\n    <tr>\n      <th>7</th>\n      <td>M3B\\n</td>\n      <td>North York\\n</td>\n      <td>Don Mills</td>\n    </tr>\n    <tr>\n      <th>8</th>\n      <td>M4B\\n</td>\n      <td>East York\\n</td>\n      <td>Parkview Hill, Woodbine Gardens</td>\n    </tr>\n    <tr>\n      <th>9</th>\n      <td>M5B\\n</td>\n      <td>Downtown Toronto\\n</td>\n      <td>Garden District, Ryerson</td>\n    </tr>\n    <tr>\n      <th>10</th>\n      <td>M6B\\n</td>\n      <td>North York\\n</td>\n      <td>Glencairn</td>\n    </tr>\n    <tr>\n      <th>11</th>\n      <td>M9B\\n</td>\n      <td>Etobicoke\\n</td>\n      <td>West Deane Park, Princess Gardens, Martin Grove, Islington, Cloverdale</td>\n    </tr>\n  </tbody>\n</table>\n</div>"
                    },
                    "metadata": {}
                }
            ]
        },
        {
            "metadata": {},
            "cell_type": "markdown",
            "source": "### Displaying the shape of the dataframe"
        },
        {
            "metadata": {},
            "cell_type": "code",
            "source": "df1.shape",
            "execution_count": 11,
            "outputs": [
                {
                    "output_type": "execute_result",
                    "execution_count": 11,
                    "data": {
                        "text/plain": "(103, 3)"
                    },
                    "metadata": {}
                }
            ]
        },
        {
            "metadata": {},
            "cell_type": "code",
            "source": "",
            "execution_count": null,
            "outputs": []
        }
    ],
    "metadata": {
        "kernelspec": {
            "name": "python3",
            "display_name": "Python 3.6",
            "language": "python"
        },
        "language_info": {
            "name": "python",
            "version": "3.6.9",
            "mimetype": "text/x-python",
            "codemirror_mode": {
                "name": "ipython",
                "version": 3
            },
            "pygments_lexer": "ipython3",
            "nbconvert_exporter": "python",
            "file_extension": ".py"
        }
    },
    "nbformat": 4,
    "nbformat_minor": 1
}